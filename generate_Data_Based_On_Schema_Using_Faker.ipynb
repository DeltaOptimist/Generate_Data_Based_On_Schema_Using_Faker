{
  "nbformat": 4,
  "nbformat_minor": 0,
  "metadata": {
    "colab": {
      "provenance": []
    },
    "kernelspec": {
      "name": "python3",
      "display_name": "Python 3"
    },
    "language_info": {
      "name": "python"
    }
  },
  "cells": [
    {
      "cell_type": "code",
      "execution_count": 1,
      "metadata": {
        "id": "XF61CQN5XJE7"
      },
      "outputs": [],
      "source": [
        "schema = {\n",
        "    \"columns\": [\n",
        "        {\"name\": \"ID\", \"type\": \"int\", \"constraints\": [\"primary_key\"]},\n",
        "        {\"name\": \"Name\", \"type\": \"string\"},\n",
        "        {\"name\": \"Age\", \"type\": \"int\"},\n",
        "    ]\n",
        "}\n"
      ]
    },
    {
      "cell_type": "code",
      "source": [
        "pip install Faker"
      ],
      "metadata": {
        "colab": {
          "base_uri": "https://localhost:8080/"
        },
        "id": "evw3GowJXn1y",
        "outputId": "23a5352a-9e33-41f9-e65c-15154099b994"
      },
      "execution_count": 7,
      "outputs": [
        {
          "output_type": "stream",
          "name": "stdout",
          "text": [
            "Collecting Faker\n",
            "  Downloading Faker-19.6.2-py3-none-any.whl (1.7 MB)\n",
            "\u001b[?25l     \u001b[90m━━━━━━━━━━━━━━━━━━━━━━━━━━━━━━━━━━━━━━━━\u001b[0m \u001b[32m0.0/1.7 MB\u001b[0m \u001b[31m?\u001b[0m eta \u001b[36m-:--:--\u001b[0m\r\u001b[2K     \u001b[91m━━\u001b[0m\u001b[90m╺\u001b[0m\u001b[90m━━━━━━━━━━━━━━━━━━━━━━━━━━━━━━━━━━━━━\u001b[0m \u001b[32m0.1/1.7 MB\u001b[0m \u001b[31m2.7 MB/s\u001b[0m eta \u001b[36m0:00:01\u001b[0m\r\u001b[2K     \u001b[91m━━━━━━━━━━━━━━━\u001b[0m\u001b[90m╺\u001b[0m\u001b[90m━━━━━━━━━━━━━━━━━━━━━━━━\u001b[0m \u001b[32m0.7/1.7 MB\u001b[0m \u001b[31m9.6 MB/s\u001b[0m eta \u001b[36m0:00:01\u001b[0m\r\u001b[2K     \u001b[90m━━━━━━━━━━━━━━━━━━━━━━━━━━━━━━━━━━━━━━━━\u001b[0m \u001b[32m1.7/1.7 MB\u001b[0m \u001b[31m17.6 MB/s\u001b[0m eta \u001b[36m0:00:00\u001b[0m\n",
            "\u001b[?25hRequirement already satisfied: python-dateutil>=2.4 in /usr/local/lib/python3.10/dist-packages (from Faker) (2.8.2)\n",
            "Requirement already satisfied: six>=1.5 in /usr/local/lib/python3.10/dist-packages (from python-dateutil>=2.4->Faker) (1.16.0)\n",
            "Installing collected packages: Faker\n",
            "Successfully installed Faker-19.6.2\n"
          ]
        }
      ]
    },
    {
      "cell_type": "code",
      "source": [
        "import random\n",
        "import faker  # You'll need to install the Faker library\n",
        "\n",
        "# Sample schema\n",
        "schema = {\n",
        "    \"columns\": [\n",
        "        {\"name\": \"ID\", \"type\": \"int\", \"constraints\": [\"primary_key\"]},\n",
        "        {\"name\": \"Name\", \"type\": \"string\"},\n",
        "        {\"name\": \"Age\", \"type\": \"int\"},\n",
        "    ]\n",
        "}\n",
        "\n",
        "# Initialize Faker to generate realistic data\n",
        "fake = faker.Faker()\n",
        "\n"
      ],
      "metadata": {
        "id": "JdW2svQNXTdG"
      },
      "execution_count": 8,
      "outputs": []
    },
    {
      "cell_type": "code",
      "source": [
        "# Function to generate data for a column based on its type\n",
        "def generate_column_data(column):\n",
        "    if column[\"type\"] == \"int\":\n",
        "        return random.randint(18, 60)\n",
        "    elif column[\"type\"] == \"string\":\n",
        "        return fake.name()\n",
        "\n"
      ],
      "metadata": {
        "id": "j7DzkmxZXYGO"
      },
      "execution_count": 9,
      "outputs": []
    },
    {
      "cell_type": "code",
      "source": [
        "# Function to generate a single row of data\n",
        "def generate_row(schema):\n",
        "    return {column[\"name\"]: generate_column_data(column) for column in schema[\"columns\"]}\n",
        "\n"
      ],
      "metadata": {
        "id": "3DXpmB6AXZ9e"
      },
      "execution_count": 10,
      "outputs": []
    },
    {
      "cell_type": "code",
      "source": [
        "# Function to generate multiple rows of data\n",
        "def generate_data(schema, num_rows=50):\n",
        "    data = []\n",
        "    for _ in range(num_rows):\n",
        "        data.append(generate_row(schema))\n",
        "    return data\n",
        "\n"
      ],
      "metadata": {
        "id": "15Q_Lg1RXcBa"
      },
      "execution_count": 13,
      "outputs": []
    },
    {
      "cell_type": "code",
      "source": [
        "# Generate 50 rows of data\n",
        "generated_data = generate_data(schema)\n",
        "for row in generated_data:\n",
        "    print(row)\n"
      ],
      "metadata": {
        "colab": {
          "base_uri": "https://localhost:8080/"
        },
        "id": "6_MQgA-XXdyR",
        "outputId": "90f4b367-f5ed-42cb-cff3-470d613fea8b"
      },
      "execution_count": 14,
      "outputs": [
        {
          "output_type": "stream",
          "name": "stdout",
          "text": [
            "{'ID': 43, 'Name': 'Ashley Johnston', 'Age': 42}\n",
            "{'ID': 58, 'Name': 'Francisco Crawford', 'Age': 35}\n",
            "{'ID': 48, 'Name': 'Nicholas Kelly', 'Age': 47}\n",
            "{'ID': 53, 'Name': 'William Torres', 'Age': 48}\n",
            "{'ID': 28, 'Name': 'Jeffrey Perez', 'Age': 29}\n",
            "{'ID': 30, 'Name': 'Kristy Martin', 'Age': 19}\n",
            "{'ID': 31, 'Name': 'Rhonda Jackson', 'Age': 28}\n",
            "{'ID': 39, 'Name': 'Brian Jones', 'Age': 26}\n",
            "{'ID': 38, 'Name': 'Jeremiah Pittman', 'Age': 28}\n",
            "{'ID': 47, 'Name': 'Monica Morris', 'Age': 60}\n",
            "{'ID': 20, 'Name': 'Michelle Mercado', 'Age': 42}\n",
            "{'ID': 50, 'Name': 'Jean Morris', 'Age': 59}\n",
            "{'ID': 56, 'Name': 'Timothy Fowler', 'Age': 56}\n",
            "{'ID': 52, 'Name': 'Kimberly Moran', 'Age': 22}\n",
            "{'ID': 36, 'Name': 'Eric Mcdonald', 'Age': 57}\n",
            "{'ID': 21, 'Name': 'John White', 'Age': 35}\n",
            "{'ID': 59, 'Name': 'Ronnie Beasley', 'Age': 35}\n",
            "{'ID': 26, 'Name': 'Mitchell Mccarthy', 'Age': 33}\n",
            "{'ID': 49, 'Name': 'Reginald Franco', 'Age': 52}\n",
            "{'ID': 20, 'Name': 'Alicia Reyes', 'Age': 45}\n",
            "{'ID': 32, 'Name': 'Christopher Townsend', 'Age': 42}\n",
            "{'ID': 21, 'Name': 'Gary Nichols', 'Age': 40}\n",
            "{'ID': 47, 'Name': 'Christopher White', 'Age': 52}\n",
            "{'ID': 57, 'Name': 'Sandy Freeman', 'Age': 26}\n",
            "{'ID': 19, 'Name': 'Diamond Kidd', 'Age': 27}\n",
            "{'ID': 34, 'Name': 'Gabriela Cunningham', 'Age': 56}\n",
            "{'ID': 60, 'Name': 'Lindsey Sullivan', 'Age': 56}\n",
            "{'ID': 56, 'Name': 'Richard Keller', 'Age': 33}\n",
            "{'ID': 25, 'Name': 'Ronald Rhodes', 'Age': 19}\n",
            "{'ID': 37, 'Name': 'Joshua Moore', 'Age': 55}\n",
            "{'ID': 44, 'Name': 'Joseph Shannon', 'Age': 52}\n",
            "{'ID': 45, 'Name': 'Christopher White', 'Age': 36}\n",
            "{'ID': 53, 'Name': 'Karla Murillo', 'Age': 58}\n",
            "{'ID': 51, 'Name': 'Kimberly Callahan', 'Age': 25}\n",
            "{'ID': 47, 'Name': 'Nicole Gates', 'Age': 51}\n",
            "{'ID': 40, 'Name': 'Nicholas Farmer', 'Age': 29}\n",
            "{'ID': 52, 'Name': 'Sonya Bryant', 'Age': 38}\n",
            "{'ID': 50, 'Name': 'David Gordon', 'Age': 39}\n",
            "{'ID': 19, 'Name': 'Daniel Watson', 'Age': 41}\n",
            "{'ID': 24, 'Name': 'Kevin Phillips', 'Age': 55}\n",
            "{'ID': 28, 'Name': 'David Ferguson', 'Age': 30}\n",
            "{'ID': 46, 'Name': 'Victoria Franco', 'Age': 52}\n",
            "{'ID': 53, 'Name': 'Anthony Doyle', 'Age': 24}\n",
            "{'ID': 49, 'Name': 'John Delacruz', 'Age': 37}\n",
            "{'ID': 32, 'Name': 'Ryan Waters', 'Age': 45}\n",
            "{'ID': 53, 'Name': 'Jade Ramsey', 'Age': 25}\n",
            "{'ID': 43, 'Name': 'Andrew Spencer', 'Age': 32}\n",
            "{'ID': 34, 'Name': 'Jennifer Mullins', 'Age': 28}\n",
            "{'ID': 46, 'Name': 'Daniel Austin', 'Age': 59}\n",
            "{'ID': 40, 'Name': 'Linda Morales', 'Age': 46}\n"
          ]
        }
      ]
    },
    {
      "cell_type": "code",
      "source": [],
      "metadata": {
        "id": "CCTcXtOBXeuK"
      },
      "execution_count": null,
      "outputs": []
    }
  ]
}